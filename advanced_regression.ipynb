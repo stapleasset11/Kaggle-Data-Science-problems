{
 "cells": [
  {
   "cell_type": "code",
   "execution_count": 55,
   "metadata": {},
   "outputs": [],
   "source": [
    "import numpy as np\n",
    "import pandas as pd\n",
    "import seaborn as sns\n",
    "import matplotlib.pyplot as plt\n",
    "\n",
    "from sklearn.model_selection import train_test_split\n",
    "from sklearn.metrics import root_mean_squared_error\n",
    "from sklearn.linear_model import LinearRegression\n",
    "from xgboost import XGBRegressor\n",
    "from sklearn.ensemble import RandomForestRegressor"
   ]
  },
  {
   "cell_type": "markdown",
   "metadata": {},
   "source": [
    "Let's prepare our Data "
   ]
  },
  {
   "cell_type": "code",
   "execution_count": 56,
   "metadata": {},
   "outputs": [
    {
     "name": "stdout",
     "output_type": "stream",
     "text": [
      "   MSSubClass MSZoning  LotFrontage  LotArea Street Alley LotShape  \\\n",
      "0          20       RH         80.0    11622   Pave   NaN      Reg   \n",
      "1          20       RL         81.0    14267   Pave   NaN      IR1   \n",
      "2          60       RL         74.0    13830   Pave   NaN      IR1   \n",
      "3          60       RL         78.0     9978   Pave   NaN      IR1   \n",
      "4         120       RL         43.0     5005   Pave   NaN      IR1   \n",
      "5          60       RL         75.0    10000   Pave   NaN      IR1   \n",
      "6          20       RL          NaN     7980   Pave   NaN      IR1   \n",
      "7          60       RL         63.0     8402   Pave   NaN      IR1   \n",
      "8          20       RL         85.0    10176   Pave   NaN      Reg   \n",
      "9          20       RL         70.0     8400   Pave   NaN      Reg   \n",
      "\n",
      "  LandContour Utilities LotConfig  ... PoolArea PoolQC  Fence MiscFeature  \\\n",
      "0         Lvl    AllPub    Inside  ...        0    NaN  MnPrv         NaN   \n",
      "1         Lvl    AllPub    Corner  ...        0    NaN    NaN        Gar2   \n",
      "2         Lvl    AllPub    Inside  ...        0    NaN  MnPrv         NaN   \n",
      "3         Lvl    AllPub    Inside  ...        0    NaN    NaN         NaN   \n",
      "4         HLS    AllPub    Inside  ...        0    NaN    NaN         NaN   \n",
      "5         Lvl    AllPub    Corner  ...        0    NaN    NaN         NaN   \n",
      "6         Lvl    AllPub    Inside  ...        0    NaN  GdPrv        Shed   \n",
      "7         Lvl    AllPub    Inside  ...        0    NaN    NaN         NaN   \n",
      "8         Lvl    AllPub    Inside  ...        0    NaN    NaN         NaN   \n",
      "9         Lvl    AllPub    Corner  ...        0    NaN  MnPrv         NaN   \n",
      "\n",
      "  MiscVal MoSold  YrSold  SaleType  SaleCondition  SalePrice  \n",
      "0       0      6    2010        WD         Normal          0  \n",
      "1   12500      6    2010        WD         Normal          0  \n",
      "2       0      3    2010        WD         Normal          0  \n",
      "3       0      6    2010        WD         Normal          0  \n",
      "4       0      1    2010        WD         Normal          0  \n",
      "5       0      4    2010        WD         Normal          0  \n",
      "6     500      3    2010        WD         Normal          0  \n",
      "7       0      5    2010        WD         Normal          0  \n",
      "8       0      2    2010        WD         Normal          0  \n",
      "9       0      4    2010        WD         Normal          0  \n",
      "\n",
      "[10 rows x 80 columns]\n"
     ]
    }
   ],
   "source": [
    "test_df = pd.read_csv(\"test.csv\")\n",
    "train_df = pd.read_csv(\"train.csv\")\n",
    "\n",
    "# print(test_df.head(10))\n",
    "# print(train_df.head(10))\n",
    "\n",
    "if 'SalePrice' not in test_df.columns:\n",
    "    test_df['SalePrice'] = 0 \n",
    "\n",
    "housing_df = pd.concat([test_df,train_df], axis = 0)\n",
    "housing_df = housing_df.set_index('Id')\n",
    "housing_df.reset_index(drop=True,inplace=True)\n",
    "print(housing_df.head(10))\n",
    "\n"
   ]
  },
  {
   "cell_type": "code",
   "execution_count": 57,
   "metadata": {},
   "outputs": [
    {
     "data": {
      "text/html": [
       "<div>\n",
       "<style scoped>\n",
       "    .dataframe tbody tr th:only-of-type {\n",
       "        vertical-align: middle;\n",
       "    }\n",
       "\n",
       "    .dataframe tbody tr th {\n",
       "        vertical-align: top;\n",
       "    }\n",
       "\n",
       "    .dataframe thead th {\n",
       "        text-align: right;\n",
       "    }\n",
       "</style>\n",
       "<table border=\"1\" class=\"dataframe\">\n",
       "  <thead>\n",
       "    <tr style=\"text-align: right;\">\n",
       "      <th></th>\n",
       "      <th>MSZoning</th>\n",
       "      <th>LotFrontage</th>\n",
       "      <th>Alley</th>\n",
       "      <th>Utilities</th>\n",
       "      <th>Exterior1st</th>\n",
       "      <th>Exterior2nd</th>\n",
       "      <th>MasVnrType</th>\n",
       "      <th>MasVnrArea</th>\n",
       "      <th>BsmtQual</th>\n",
       "      <th>BsmtCond</th>\n",
       "      <th>...</th>\n",
       "      <th>GarageYrBlt</th>\n",
       "      <th>GarageFinish</th>\n",
       "      <th>GarageCars</th>\n",
       "      <th>GarageArea</th>\n",
       "      <th>GarageQual</th>\n",
       "      <th>GarageCond</th>\n",
       "      <th>PoolQC</th>\n",
       "      <th>Fence</th>\n",
       "      <th>MiscFeature</th>\n",
       "      <th>SaleType</th>\n",
       "    </tr>\n",
       "  </thead>\n",
       "  <tbody>\n",
       "    <tr>\n",
       "      <th>0</th>\n",
       "      <td>RH</td>\n",
       "      <td>80.0</td>\n",
       "      <td>NaN</td>\n",
       "      <td>AllPub</td>\n",
       "      <td>VinylSd</td>\n",
       "      <td>VinylSd</td>\n",
       "      <td>NaN</td>\n",
       "      <td>0.0</td>\n",
       "      <td>TA</td>\n",
       "      <td>TA</td>\n",
       "      <td>...</td>\n",
       "      <td>1961.0</td>\n",
       "      <td>Unf</td>\n",
       "      <td>1.0</td>\n",
       "      <td>730.0</td>\n",
       "      <td>TA</td>\n",
       "      <td>TA</td>\n",
       "      <td>NaN</td>\n",
       "      <td>MnPrv</td>\n",
       "      <td>NaN</td>\n",
       "      <td>WD</td>\n",
       "    </tr>\n",
       "    <tr>\n",
       "      <th>1</th>\n",
       "      <td>RL</td>\n",
       "      <td>81.0</td>\n",
       "      <td>NaN</td>\n",
       "      <td>AllPub</td>\n",
       "      <td>Wd Sdng</td>\n",
       "      <td>Wd Sdng</td>\n",
       "      <td>BrkFace</td>\n",
       "      <td>108.0</td>\n",
       "      <td>TA</td>\n",
       "      <td>TA</td>\n",
       "      <td>...</td>\n",
       "      <td>1958.0</td>\n",
       "      <td>Unf</td>\n",
       "      <td>1.0</td>\n",
       "      <td>312.0</td>\n",
       "      <td>TA</td>\n",
       "      <td>TA</td>\n",
       "      <td>NaN</td>\n",
       "      <td>NaN</td>\n",
       "      <td>Gar2</td>\n",
       "      <td>WD</td>\n",
       "    </tr>\n",
       "    <tr>\n",
       "      <th>2</th>\n",
       "      <td>RL</td>\n",
       "      <td>74.0</td>\n",
       "      <td>NaN</td>\n",
       "      <td>AllPub</td>\n",
       "      <td>VinylSd</td>\n",
       "      <td>VinylSd</td>\n",
       "      <td>NaN</td>\n",
       "      <td>0.0</td>\n",
       "      <td>Gd</td>\n",
       "      <td>TA</td>\n",
       "      <td>...</td>\n",
       "      <td>1997.0</td>\n",
       "      <td>Fin</td>\n",
       "      <td>2.0</td>\n",
       "      <td>482.0</td>\n",
       "      <td>TA</td>\n",
       "      <td>TA</td>\n",
       "      <td>NaN</td>\n",
       "      <td>MnPrv</td>\n",
       "      <td>NaN</td>\n",
       "      <td>WD</td>\n",
       "    </tr>\n",
       "    <tr>\n",
       "      <th>3</th>\n",
       "      <td>RL</td>\n",
       "      <td>78.0</td>\n",
       "      <td>NaN</td>\n",
       "      <td>AllPub</td>\n",
       "      <td>VinylSd</td>\n",
       "      <td>VinylSd</td>\n",
       "      <td>BrkFace</td>\n",
       "      <td>20.0</td>\n",
       "      <td>TA</td>\n",
       "      <td>TA</td>\n",
       "      <td>...</td>\n",
       "      <td>1998.0</td>\n",
       "      <td>Fin</td>\n",
       "      <td>2.0</td>\n",
       "      <td>470.0</td>\n",
       "      <td>TA</td>\n",
       "      <td>TA</td>\n",
       "      <td>NaN</td>\n",
       "      <td>NaN</td>\n",
       "      <td>NaN</td>\n",
       "      <td>WD</td>\n",
       "    </tr>\n",
       "    <tr>\n",
       "      <th>4</th>\n",
       "      <td>RL</td>\n",
       "      <td>43.0</td>\n",
       "      <td>NaN</td>\n",
       "      <td>AllPub</td>\n",
       "      <td>HdBoard</td>\n",
       "      <td>HdBoard</td>\n",
       "      <td>NaN</td>\n",
       "      <td>0.0</td>\n",
       "      <td>Gd</td>\n",
       "      <td>TA</td>\n",
       "      <td>...</td>\n",
       "      <td>1992.0</td>\n",
       "      <td>RFn</td>\n",
       "      <td>2.0</td>\n",
       "      <td>506.0</td>\n",
       "      <td>TA</td>\n",
       "      <td>TA</td>\n",
       "      <td>NaN</td>\n",
       "      <td>NaN</td>\n",
       "      <td>NaN</td>\n",
       "      <td>WD</td>\n",
       "    </tr>\n",
       "  </tbody>\n",
       "</table>\n",
       "<p>5 rows × 34 columns</p>\n",
       "</div>"
      ],
      "text/plain": [
       "  MSZoning  LotFrontage Alley Utilities Exterior1st Exterior2nd MasVnrType  \\\n",
       "0       RH         80.0   NaN    AllPub     VinylSd     VinylSd        NaN   \n",
       "1       RL         81.0   NaN    AllPub     Wd Sdng     Wd Sdng    BrkFace   \n",
       "2       RL         74.0   NaN    AllPub     VinylSd     VinylSd        NaN   \n",
       "3       RL         78.0   NaN    AllPub     VinylSd     VinylSd    BrkFace   \n",
       "4       RL         43.0   NaN    AllPub     HdBoard     HdBoard        NaN   \n",
       "\n",
       "   MasVnrArea BsmtQual BsmtCond  ... GarageYrBlt GarageFinish  GarageCars  \\\n",
       "0         0.0       TA       TA  ...      1961.0          Unf         1.0   \n",
       "1       108.0       TA       TA  ...      1958.0          Unf         1.0   \n",
       "2         0.0       Gd       TA  ...      1997.0          Fin         2.0   \n",
       "3        20.0       TA       TA  ...      1998.0          Fin         2.0   \n",
       "4         0.0       Gd       TA  ...      1992.0          RFn         2.0   \n",
       "\n",
       "  GarageArea  GarageQual  GarageCond  PoolQC  Fence  MiscFeature  SaleType  \n",
       "0      730.0          TA          TA     NaN  MnPrv          NaN        WD  \n",
       "1      312.0          TA          TA     NaN    NaN         Gar2        WD  \n",
       "2      482.0          TA          TA     NaN  MnPrv          NaN        WD  \n",
       "3      470.0          TA          TA     NaN    NaN          NaN        WD  \n",
       "4      506.0          TA          TA     NaN    NaN          NaN        WD  \n",
       "\n",
       "[5 rows x 34 columns]"
      ]
     },
     "execution_count": 57,
     "metadata": {},
     "output_type": "execute_result"
    }
   ],
   "source": [
    "df_null  = housing_df[housing_df.isnull().sum()[housing_df.isnull().sum()>0].index]\n",
    "df_null.head()"
   ]
  },
  {
   "cell_type": "code",
   "execution_count": 58,
   "metadata": {},
   "outputs": [
    {
     "data": {
      "text/plain": [
       "<Axes: >"
      ]
     },
     "execution_count": 58,
     "metadata": {},
     "output_type": "execute_result"
    },
    {
     "data": {
      "image/png": "[encoded data removed]",
      "text/plain": [
       "<Figure size 640x480 with 2 Axes>"
      ]
     },
     "metadata": {},
     "output_type": "display_data"
    }
   ],
   "source": [
    "sns.heatmap(df_null.isnull())\n"
   ]
  },
  {
   "cell_type": "code",
   "execution_count": 59,
   "metadata": {},
   "outputs": [],
   "source": [
    "df_objects =  housing_df[housing_df.select_dtypes(include=['object']).columns]\n",
    "housing_df = housing_df.drop(housing_df[df_objects.isna().sum()[df_objects.isna().sum() > 1100].index], axis = 1)"
   ]
  },
  {
   "cell_type": "code",
   "execution_count": 60,
   "metadata": {},
   "outputs": [],
   "source": [
    "df_objects = df_objects.drop(df_objects[df_objects.isna().sum()[df_objects.isna().sum() > 1100].index], axis = 1)\n",
    "\n",
    "df_objects = df_objects.fillna('null')\n",
    "\n",
    "df_objects_encoded = pd.get_dummies(df_objects)\n",
    "\n"
   ]
  },
  {
   "cell_type": "code",
   "execution_count": 61,
   "metadata": {},
   "outputs": [
    {
     "data": {
      "text/plain": [
       "Utilities\n",
       "AllPub    2916\n",
       "null         2\n",
       "NoSeWa       1\n",
       "Name: count, dtype: int64"
      ]
     },
     "execution_count": 61,
     "metadata": {},
     "output_type": "execute_result"
    }
   ],
   "source": [
    "df_objects['Utilities'].value_counts()"
   ]
  },
  {
   "cell_type": "code",
   "execution_count": 62,
   "metadata": {},
   "outputs": [
    {
     "name": "stdout",
     "output_type": "stream",
     "text": [
      "MSZoning_null\n",
      "Utilities_null\n",
      "Exterior1st_null\n",
      "Exterior2nd_null\n",
      "BsmtQual_null\n",
      "BsmtCond_null\n",
      "BsmtExposure_null\n",
      "BsmtFinType1_null\n",
      "BsmtFinType2_null\n",
      "Electrical_null\n",
      "KitchenQual_null\n",
      "Functional_null\n",
      "GarageType_null\n",
      "GarageFinish_null\n",
      "GarageQual_null\n",
      "GarageCond_null\n",
      "SaleType_null\n"
     ]
    }
   ],
   "source": [
    "for i in df_objects_encoded.columns:\n",
    "    if 'null' in i:\n",
    "        df_objects_encoded = df_objects_encoded.drop(i,axis=1)\n",
    "        print(i)\n",
    "        \n"
   ]
  },
  {
   "cell_type": "code",
   "execution_count": 63,
   "metadata": {},
   "outputs": [
    {
     "name": "stdout",
     "output_type": "stream",
     "text": [
      "   MSSubClass MSZoning  LotFrontage  LotArea Street LotShape LandContour  \\\n",
      "0          20       RH         80.0    11622   Pave      Reg         Lvl   \n",
      "1          20       RL         81.0    14267   Pave      IR1         Lvl   \n",
      "2          60       RL         74.0    13830   Pave      IR1         Lvl   \n",
      "3          60       RL         78.0     9978   Pave      IR1         Lvl   \n",
      "4         120       RL         43.0     5005   Pave      IR1         HLS   \n",
      "5          60       RL         75.0    10000   Pave      IR1         Lvl   \n",
      "6          20       RL          NaN     7980   Pave      IR1         Lvl   \n",
      "7          60       RL         63.0     8402   Pave      IR1         Lvl   \n",
      "8          20       RL         85.0    10176   Pave      Reg         Lvl   \n",
      "9          20       RL         70.0     8400   Pave      Reg         Lvl   \n",
      "\n",
      "  Utilities LotConfig LandSlope  ... SaleType_ConLw SaleType_New SaleType_Oth  \\\n",
      "0    AllPub    Inside       Gtl  ...          False        False        False   \n",
      "1    AllPub    Corner       Gtl  ...          False        False        False   \n",
      "2    AllPub    Inside       Gtl  ...          False        False        False   \n",
      "3    AllPub    Inside       Gtl  ...          False        False        False   \n",
      "4    AllPub    Inside       Gtl  ...          False        False        False   \n",
      "5    AllPub    Corner       Gtl  ...          False        False        False   \n",
      "6    AllPub    Inside       Gtl  ...          False        False        False   \n",
      "7    AllPub    Inside       Gtl  ...          False        False        False   \n",
      "8    AllPub    Inside       Gtl  ...          False        False        False   \n",
      "9    AllPub    Corner       Gtl  ...          False        False        False   \n",
      "\n",
      "  SaleType_WD SaleCondition_Abnorml  SaleCondition_AdjLand  \\\n",
      "0        True                 False                  False   \n",
      "1        True                 False                  False   \n",
      "2        True                 False                  False   \n",
      "3        True                 False                  False   \n",
      "4        True                 False                  False   \n",
      "5        True                 False                  False   \n",
      "6        True                 False                  False   \n",
      "7        True                 False                  False   \n",
      "8        True                 False                  False   \n",
      "9        True                 False                  False   \n",
      "\n",
      "   SaleCondition_Alloca  SaleCondition_Family  SaleCondition_Normal  \\\n",
      "0                 False                 False                  True   \n",
      "1                 False                 False                  True   \n",
      "2                 False                 False                  True   \n",
      "3                 False                 False                  True   \n",
      "4                 False                 False                  True   \n",
      "5                 False                 False                  True   \n",
      "6                 False                 False                  True   \n",
      "7                 False                 False                  True   \n",
      "8                 False                 False                  True   \n",
      "9                 False                 False                  True   \n",
      "\n",
      "  SaleCondition_Partial  \n",
      "0                 False  \n",
      "1                 False  \n",
      "2                 False  \n",
      "3                 False  \n",
      "4                 False  \n",
      "5                 False  \n",
      "6                 False  \n",
      "7                 False  \n",
      "8                 False  \n",
      "9                 False  \n",
      "\n",
      "[10 rows x 304 columns]\n"
     ]
    }
   ],
   "source": [
    "new_housing_df = pd.concat([housing_df, df_objects_encoded], axis = 1)\n",
    "print(new_housing_df.head(10))"
   ]
  },
  {
   "cell_type": "code",
   "execution_count": 78,
   "metadata": {},
   "outputs": [
    {
     "data": {
      "text/plain": [
       "LotFrontage     486\n",
       "MasVnrArea       23\n",
       "BsmtFinSF1        1\n",
       "BsmtFinSF2        1\n",
       "BsmtUnfSF         1\n",
       "TotalBsmtSF       1\n",
       "BsmtFullBath      2\n",
       "BsmtHalfBath      2\n",
       "GarageYrBlt     159\n",
       "GarageCars        1\n",
       "GarageArea        1\n",
       "dtype: int64"
      ]
     },
     "execution_count": 78,
     "metadata": {},
     "output_type": "execute_result"
    }
   ],
   "source": [
    "new_df = new_housing_df.drop(new_housing_df.select_dtypes(include=['object']), axis = 1)\n",
    "\n",
    "new_df.isna().sum()[new_df.isna().sum() > 0]"
   ]
  },
  {
   "cell_type": "code",
   "execution_count": 79,
   "metadata": {},
   "outputs": [
    {
     "data": {
      "text/plain": [
       "Series([], dtype: int64)"
      ]
     },
     "execution_count": 79,
     "metadata": {},
     "output_type": "execute_result"
    }
   ],
   "source": [
    "Mode_columns = ['GarageCars', 'GarageYrBlt', 'BsmtFullBath', 'BsmtHalfBath']\n",
    "Mean_columns = ['LotFrontage', 'MasVnrArea', 'BsmtFinSF1', 'BsmtFinSF2', 'BsmtUnfSF',\n",
    "                'TotalBsmtSF', 'GarageArea']\n",
    "\n",
    "for i in Mode_columns:\n",
    "    new_df[i] = new_df[i].fillna(new_df[i].mode()[0])\n",
    "\n",
    "for i in Mean_columns:\n",
    "    new_df[i] = new_df[i].fillna(np.round(new_df[i].mean()))\n",
    "\n",
    "new_df.isna().sum()[new_df.isna().sum() > 0] "
   ]
  },
  {
   "cell_type": "code",
   "execution_count": 80,
   "metadata": {},
   "outputs": [],
   "source": [
    "training_data = new_df[0:len(train_df)]\n",
    "testing_data = new_df[len(test_df):]\n",
    "testing_data = testing_data.drop(columns='SalePrice')"
   ]
  },
  {
   "cell_type": "markdown",
   "metadata": {},
   "source": [
    "Now Let's train our data.\n",
    "\n",
    "We are going to test out three models:\n",
    " * LinearRegression()\n",
    " * XGBRegressor()\n",
    " * RandomForestRegressor() "
   ]
  },
  {
   "cell_type": "code",
   "execution_count": 81,
   "metadata": {},
   "outputs": [
    {
     "data": {
      "text/plain": [
       "((1168, 266), (1168, 1))"
      ]
     },
     "execution_count": 81,
     "metadata": {},
     "output_type": "execute_result"
    }
   ],
   "source": [
    "X = training_data.drop(columns='SalePrice')\n",
    "y = training_data['SalePrice']\n",
    "X_train,X_test,Y_train,Y_test = train_test_split(X,y,test_size=0.2)\n",
    "\n",
    "Y_test = np.reshape(Y_test,(-1,1))\n",
    "Y_train = np.reshape(Y_train,(-1,1))\n",
    "\n",
    "X_train.shape, Y_train.shape\n",
    "\n"
   ]
  },
  {
   "cell_type": "code",
   "execution_count": 82,
   "metadata": {},
   "outputs": [
    {
     "data": {
      "text/plain": [
       "np.float64(782.1717405435007)"
      ]
     },
     "execution_count": 82,
     "metadata": {},
     "output_type": "execute_result"
    }
   ],
   "source": [
    "model_1 = LinearRegression()\n",
    "model_1.fit(X, y)\n",
    "y_pred = model_1.predict(X_test)\n",
    "root_mean_squared_error(Y_test, y_pred)"
   ]
  },
  {
   "cell_type": "code",
   "execution_count": 83,
   "metadata": {},
   "outputs": [
    {
     "data": {
      "text/plain": [
       "np.float64(2.149696029291762e-20)"
      ]
     },
     "execution_count": 83,
     "metadata": {},
     "output_type": "execute_result"
    }
   ],
   "source": [
    "model_2 = XGBRegressor(n_estimators=1000, learning_rate=0.1, random_state=42)\n",
    "model_2.fit(X, y)\n",
    "y_pred = model_2.predict(X_test)\n",
    "root_mean_squared_error(Y_test, y_pred)"
   ]
  },
  {
   "cell_type": "code",
   "execution_count": 84,
   "metadata": {},
   "outputs": [
    {
     "data": {
      "text/plain": [
       "np.float64(1742.5148519934653)"
      ]
     },
     "execution_count": 84,
     "metadata": {},
     "output_type": "execute_result"
    }
   ],
   "source": [
    "model_3 = RandomForestRegressor(n_estimators=1000)\n",
    "model_3.fit(X, y)\n",
    "y_pred = model_3.predict(X_test)\n",
    "root_mean_squared_error(Y_test, y_pred)"
   ]
  },
  {
   "cell_type": "markdown",
   "metadata": {},
   "source": [
    "Based on the root_mean_squared_error of 2.796512201403204e-20 we can see that XGBRegressor is the most suitable and so we wil go with it"
   ]
  },
  {
   "cell_type": "code",
   "execution_count": 85,
   "metadata": {},
   "outputs": [
    {
     "data": {
      "image/png": "[encoded data removed]",
      "text/plain": [
       "<Figure size 1000x600 with 1 Axes>"
      ]
     },
     "metadata": {},
     "output_type": "display_data"
    }
   ],
   "source": [
    "sort_indices = np.argsort(Y_test)\n",
    "\n",
    "# Plot\n",
    "plt.figure(figsize=(10, 6))\n",
    "plt.plot(np.arange(len(Y_test)), Y_test, label='Original price')\n",
    "plt.plot(np.arange(len(Y_test)), y_pred, label='Predicted price')\n",
    "plt.xlabel('Index')\n",
    "plt.ylabel('Price')\n",
    "plt.title('Original vs Predicted Sale Prices')\n",
    "plt.legend()\n",
    "plt.show()"
   ]
  },
  {
   "cell_type": "code",
   "execution_count": 86,
   "metadata": {},
   "outputs": [],
   "source": [
    "pred = model_2.predict(testing_data)\n",
    "\n",
    "final = pd.DataFrame()\n",
    "final['Id'] = testing_data.index\n",
    "final['SalePrice'] = pred\n",
    "\n",
    "# Write DataFrame to a CSV file without index\n",
    "final.to_csv('output.csv', index=False)"
   ]
  },
  {
   "cell_type": "code",
   "execution_count": null,
   "metadata": {},
   "outputs": [],
   "source": []
  },
  {
   "cell_type": "code",
   "execution_count": null,
   "metadata": {},
   "outputs": [],
   "source": []
  },
  {
   "cell_type": "code",
   "execution_count": null,
   "metadata": {},
   "outputs": [],
   "source": []
  },
  {
   "cell_type": "code",
   "execution_count": null,
   "metadata": {},
   "outputs": [],
   "source": []
  }
 ],
 "metadata": {
  "kernelspec": {
   "display_name": "venv",
   "language": "python",
   "name": "python3"
  },
  "language_info": {
   "codemirror_mode": {
    "name": "ipython",
    "version": 3
   },
   "file_extension": ".py",
   "mimetype": "text/x-python",
   "name": "python",
   "nbconvert_exporter": "python",
   "pygments_lexer": "ipython3",
   "version": "3.12.3"
  }
 },
 "nbformat": 4,
 "nbformat_minor": 2
}
